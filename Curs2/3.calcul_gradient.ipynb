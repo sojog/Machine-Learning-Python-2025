{
 "cells": [
  {
   "cell_type": "code",
   "execution_count": 1,
   "id": "ee47e055",
   "metadata": {},
   "outputs": [],
   "source": [
    "import numpy as np\n",
    "import matplotlib.pyplot as plt"
   ]
  },
  {
   "cell_type": "code",
   "execution_count": 3,
   "id": "4eca5848",
   "metadata": {},
   "outputs": [],
   "source": [
    "plt.rcParams[\"figure.figsize\"] = [3.3, 3.3]"
   ]
  },
  {
   "cell_type": "code",
   "execution_count": 2,
   "id": "784088c5",
   "metadata": {},
   "outputs": [],
   "source": [
    "apartamente = [(37, 65), (55, 80), (80, 120), (60, 95), (92, 205), (41, 75), (170, 400), (145, 367), (82, 205), (72, 198)]\n",
    "apartamente = np.array(apartamente)\n",
    "apartamente = apartamente[ apartamente[:,0].argsort()]\n",
    "suprafete, preturi = apartamente[:, 0], apartamente[:, 1]"
   ]
  },
  {
   "cell_type": "code",
   "execution_count": 4,
   "id": "0e1f8835",
   "metadata": {},
   "outputs": [],
   "source": [
    "def lin_plot(x, y, a, b):\n",
    "    plt.scatter(x, y);\n",
    "    f = lambda x: a * x + b\n",
    "    plt.plot(x, list(map(f, x)));"
   ]
  },
  {
   "cell_type": "code",
   "execution_count": 5,
   "id": "43687fa1",
   "metadata": {},
   "outputs": [
    {
     "data": {
      "image/png": "[encoded data removed]",
      "text/plain": [
       "<Figure size 330x330 with 1 Axes>"
      ]
     },
     "metadata": {},
     "output_type": "display_data"
    }
   ],
   "source": [
    "\n",
    "a = 0 \n",
    "b = 0\n",
    "lin_plot(suprafete, preturi, a, b)\n",
    "\n"
   ]
  },
  {
   "cell_type": "code",
   "execution_count": 7,
   "id": "aec0fe0c",
   "metadata": {},
   "outputs": [
    {
     "data": {
      "text/plain": [
       "np.float64(33.82373427047936)"
      ]
     },
     "execution_count": 7,
     "metadata": {},
     "output_type": "execute_result"
    }
   ],
   "source": [
    "\n",
    "preturi_calculate = a *  suprafete + b\n",
    "suma_rezidula = 1 / (2 * preturi.size) *  np.sqrt(((preturi - preturi_calculate) ** 2).sum())\n",
    "suma_rezidula"
   ]
  },
  {
   "cell_type": "code",
   "execution_count": 9,
   "id": "4dabcc72",
   "metadata": {},
   "outputs": [
    {
     "data": {
      "text/plain": [
       "('de_A',\n",
       " array([  -4810,   -6150,   -8800,  -11400,  -28512,  -19200,  -33620,\n",
       "         -37720, -106430, -136000]),\n",
       " 'd_b',\n",
       " array([-130, -150, -160, -190, -396, -240, -410, -410, -734, -800]))"
      ]
     },
     "execution_count": 9,
     "metadata": {},
     "output_type": "execute_result"
    }
   ],
   "source": [
    "derivata_a = 2 * (preturi_calculate - preturi) * suprafete\n",
    "derivata_b = 2 * (preturi_calculate - preturi) \n",
    "\n",
    "\"de_A\", derivata_a, \"d_b\", derivata_b"
   ]
  },
  {
   "cell_type": "code",
   "execution_count": null,
   "id": "7afb128e",
   "metadata": {},
   "outputs": [],
   "source": []
  }
 ],
 "metadata": {
  "kernelspec": {
   "display_name": "Python 3",
   "language": "python",
   "name": "python3"
  },
  "language_info": {
   "codemirror_mode": {
    "name": "ipython",
    "version": 3
   },
   "file_extension": ".py",
   "mimetype": "text/x-python",
   "name": "python",
   "nbconvert_exporter": "python",
   "pygments_lexer": "ipython3",
   "version": "3.13.3"
  }
 },
 "nbformat": 4,
 "nbformat_minor": 5
}
