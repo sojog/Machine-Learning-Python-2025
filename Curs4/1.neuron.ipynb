{
 "cells": [
  {
   "cell_type": "code",
   "execution_count": 1,
   "id": "b8f131ce",
   "metadata": {},
   "outputs": [],
   "source": [
    "import numpy as np"
   ]
  },
  {
   "cell_type": "markdown",
   "id": "c7b59b27",
   "metadata": {},
   "source": [
    "# f(x) = a * x + b\n",
    "# f(x1, x2) = a * x1 + b * x2 + c\n",
    "# f(x1, x2) = w1 * x1 + w2 * x2 + b"
   ]
  },
  {
   "cell_type": "code",
   "execution_count": 13,
   "id": "29774e1c",
   "metadata": {},
   "outputs": [],
   "source": [
    "def activare(x):\n",
    "    return 0 if x < 0  else 1"
   ]
  },
  {
   "cell_type": "code",
   "execution_count": 14,
   "id": "3871fcd1",
   "metadata": {},
   "outputs": [],
   "source": [
    "\n",
    "def neuron(x1, x2):\n",
    "    w1, w2, b = 1, 1, 2\n",
    "    return activare(w1 * x1 + w2 * x2 + b)\n",
    "\n"
   ]
  },
  {
   "cell_type": "code",
   "execution_count": 15,
   "id": "8f451a67",
   "metadata": {},
   "outputs": [
    {
     "data": {
      "text/plain": [
       "1"
      ]
     },
     "execution_count": 15,
     "metadata": {},
     "output_type": "execute_result"
    }
   ],
   "source": [
    "neuron(2, 3)"
   ]
  },
  {
   "cell_type": "code",
   "execution_count": 16,
   "id": "b5610b1f",
   "metadata": {},
   "outputs": [
    {
     "data": {
      "text/plain": [
       "1"
      ]
     },
     "execution_count": 16,
     "metadata": {},
     "output_type": "execute_result"
    }
   ],
   "source": [
    "neuron(2000, 3000)"
   ]
  },
  {
   "cell_type": "code",
   "execution_count": 12,
   "id": "690d6afe",
   "metadata": {},
   "outputs": [
    {
     "data": {
      "text/plain": [
       "1"
      ]
     },
     "execution_count": 12,
     "metadata": {},
     "output_type": "execute_result"
    }
   ],
   "source": [
    "neuron(2000, 3000)"
   ]
  }
 ],
 "metadata": {
  "kernelspec": {
   "display_name": "Python 3",
   "language": "python",
   "name": "python3"
  },
  "language_info": {
   "codemirror_mode": {
    "name": "ipython",
    "version": 3
   },
   "file_extension": ".py",
   "mimetype": "text/x-python",
   "name": "python",
   "nbconvert_exporter": "python",
   "pygments_lexer": "ipython3",
   "version": "3.13.3"
  }
 },
 "nbformat": 4,
 "nbformat_minor": 5
}
