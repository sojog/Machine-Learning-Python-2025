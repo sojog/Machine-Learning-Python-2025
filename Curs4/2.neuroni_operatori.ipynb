{
 "cells": [
  {
   "cell_type": "code",
   "execution_count": null,
   "id": "520f9c2b",
   "metadata": {},
   "outputs": [],
   "source": [
    "def AND_CLASSIC(x1, x2):\n",
    "    return int(x1 and x2)"
   ]
  },
  {
   "cell_type": "code",
   "execution_count": 3,
   "id": "c85f4a93",
   "metadata": {},
   "outputs": [
    {
     "data": {
      "text/plain": [
       "(1, 0, 0, 0)"
      ]
     },
     "execution_count": 3,
     "metadata": {},
     "output_type": "execute_result"
    }
   ],
   "source": [
    "AND_CLASSIC(1, 1), AND_CLASSIC(1, 0), AND_CLASSIC(0, 1), AND_CLASSIC(0, 0)"
   ]
  },
  {
   "cell_type": "code",
   "execution_count": 13,
   "id": "e0af385e",
   "metadata": {},
   "outputs": [],
   "source": [
    "def activare(x):\n",
    "    return 0 if x <= 0 else 1  "
   ]
  },
  {
   "cell_type": "code",
   "execution_count": null,
   "id": "df9a1035",
   "metadata": {},
   "outputs": [
    {
     "data": {
      "text/plain": [
       "(1, 0, 0, 0)"
      ]
     },
     "execution_count": 19,
     "metadata": {},
     "output_type": "execute_result"
    }
   ],
   "source": [
    "\n",
    "def AND_NEURON(x1, x2):\n",
    "    w1, w2, b = 1, 1, -1.5\n",
    "    return activare(w1 * x1 + w2 * x2 + b)\n",
    "AND_NEURON(1, 1), AND_NEURON(1, 0), AND_NEURON(0, 1), AND_NEURON(0, 0)\n",
    "# 1                     0               0                 0 \n"
   ]
  },
  {
   "cell_type": "code",
   "execution_count": null,
   "id": "530adfaf",
   "metadata": {},
   "outputs": [
    {
     "data": {
      "text/plain": [
       "(1, 0, 0, 0)"
      ]
     },
     "execution_count": 20,
     "metadata": {},
     "output_type": "execute_result"
    }
   ],
   "source": [
    "\n",
    "def AND_NEURON(x1, x2):\n",
    "    return activare(1 * x1 + 1 * x2 - 1.5)\n",
    "AND_NEURON(1, 1), AND_NEURON(1, 0), AND_NEURON(0, 1), AND_NEURON(0, 0)"
   ]
  },
  {
   "cell_type": "code",
   "execution_count": 24,
   "id": "9485e543",
   "metadata": {},
   "outputs": [
    {
     "data": {
      "text/plain": [
       "(1, 1, 1, 0)"
      ]
     },
     "execution_count": 24,
     "metadata": {},
     "output_type": "execute_result"
    }
   ],
   "source": [
    "\n",
    "def OR_NEURON(x1, x2):\n",
    "    return activare(1 * x1 + 1 * x2 - 0.5)\n",
    "OR_NEURON(1, 1), OR_NEURON(1, 0), OR_NEURON(0, 1), OR_NEURON(0, 0)\n",
    "#      1               1              1               0\n"
   ]
  },
  {
   "cell_type": "code",
   "execution_count": null,
   "id": "f4a95a55",
   "metadata": {},
   "outputs": [],
   "source": []
  }
 ],
 "metadata": {
  "kernelspec": {
   "display_name": "Python 3",
   "language": "python",
   "name": "python3"
  },
  "language_info": {
   "codemirror_mode": {
    "name": "ipython",
    "version": 3
   },
   "file_extension": ".py",
   "mimetype": "text/x-python",
   "name": "python",
   "nbconvert_exporter": "python",
   "pygments_lexer": "ipython3",
   "version": "3.13.3"
  }
 },
 "nbformat": 4,
 "nbformat_minor": 5
}
