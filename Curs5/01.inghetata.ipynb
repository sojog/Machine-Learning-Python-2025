{
 "cells": [
  {
   "cell_type": "code",
   "execution_count": 1,
   "id": "7ab8b4f3",
   "metadata": {},
   "outputs": [],
   "source": [
    "import pandas as pd\n",
    "import matplotlib.pyplot as plt\n"
   ]
  },
  {
   "cell_type": "code",
   "execution_count": 3,
   "id": "f4200eef",
   "metadata": {},
   "outputs": [
    {
     "data": {
      "text/html": [
       "<div>\n",
       "<style scoped>\n",
       "    .dataframe tbody tr th:only-of-type {\n",
       "        vertical-align: middle;\n",
       "    }\n",
       "\n",
       "    .dataframe tbody tr th {\n",
       "        vertical-align: top;\n",
       "    }\n",
       "\n",
       "    .dataframe thead th {\n",
       "        text-align: right;\n",
       "    }\n",
       "</style>\n",
       "<table border=\"1\" class=\"dataframe\">\n",
       "  <thead>\n",
       "    <tr style=\"text-align: right;\">\n",
       "      <th></th>\n",
       "      <th>temperatura</th>\n",
       "      <th>vanzari</th>\n",
       "      <th>luna</th>\n",
       "      <th>zi_saptamana</th>\n",
       "    </tr>\n",
       "  </thead>\n",
       "  <tbody>\n",
       "    <tr>\n",
       "      <th>0</th>\n",
       "      <td>8</td>\n",
       "      <td>25</td>\n",
       "      <td>ianuarie</td>\n",
       "      <td>luni</td>\n",
       "    </tr>\n",
       "    <tr>\n",
       "      <th>1</th>\n",
       "      <td>10</td>\n",
       "      <td>35</td>\n",
       "      <td>ianuarie</td>\n",
       "      <td>marti</td>\n",
       "    </tr>\n",
       "    <tr>\n",
       "      <th>2</th>\n",
       "      <td>12</td>\n",
       "      <td>45</td>\n",
       "      <td>ianuarie</td>\n",
       "      <td>miercuri</td>\n",
       "    </tr>\n",
       "    <tr>\n",
       "      <th>3</th>\n",
       "      <td>15</td>\n",
       "      <td>55</td>\n",
       "      <td>ianuarie</td>\n",
       "      <td>joi</td>\n",
       "    </tr>\n",
       "    <tr>\n",
       "      <th>4</th>\n",
       "      <td>18</td>\n",
       "      <td>75</td>\n",
       "      <td>ianuarie</td>\n",
       "      <td>vineri</td>\n",
       "    </tr>\n",
       "    <tr>\n",
       "      <th>...</th>\n",
       "      <td>...</td>\n",
       "      <td>...</td>\n",
       "      <td>...</td>\n",
       "      <td>...</td>\n",
       "    </tr>\n",
       "    <tr>\n",
       "      <th>233</th>\n",
       "      <td>33</td>\n",
       "      <td>168</td>\n",
       "      <td>mai</td>\n",
       "      <td>miercuri</td>\n",
       "    </tr>\n",
       "    <tr>\n",
       "      <th>234</th>\n",
       "      <td>35</td>\n",
       "      <td>182</td>\n",
       "      <td>mai</td>\n",
       "      <td>joi</td>\n",
       "    </tr>\n",
       "    <tr>\n",
       "      <th>235</th>\n",
       "      <td>37</td>\n",
       "      <td>195</td>\n",
       "      <td>mai</td>\n",
       "      <td>vineri</td>\n",
       "    </tr>\n",
       "    <tr>\n",
       "      <th>236</th>\n",
       "      <td>39</td>\n",
       "      <td>208</td>\n",
       "      <td>mai</td>\n",
       "      <td>sambata</td>\n",
       "    </tr>\n",
       "    <tr>\n",
       "      <th>237</th>\n",
       "      <td>41</td>\n",
       "      <td>222</td>\n",
       "      <td>mai</td>\n",
       "      <td>duminica</td>\n",
       "    </tr>\n",
       "  </tbody>\n",
       "</table>\n",
       "<p>238 rows × 4 columns</p>\n",
       "</div>"
      ],
      "text/plain": [
       "     temperatura  vanzari      luna zi_saptamana\n",
       "0              8       25  ianuarie         luni\n",
       "1             10       35  ianuarie        marti\n",
       "2             12       45  ianuarie     miercuri\n",
       "3             15       55  ianuarie          joi\n",
       "4             18       75  ianuarie       vineri\n",
       "..           ...      ...       ...          ...\n",
       "233           33      168       mai     miercuri\n",
       "234           35      182       mai          joi\n",
       "235           37      195       mai       vineri\n",
       "236           39      208       mai      sambata\n",
       "237           41      222       mai    duminica \n",
       "\n",
       "[238 rows x 4 columns]"
      ]
     },
     "execution_count": 3,
     "metadata": {},
     "output_type": "execute_result"
    }
   ],
   "source": [
    "df = pd.read_csv(\"date_inghetata.csv\")\n",
    "df"
   ]
  },
  {
   "cell_type": "code",
   "execution_count": 4,
   "id": "2ec9c367",
   "metadata": {},
   "outputs": [],
   "source": [
    "x = df[\"temperatura\"]"
   ]
  },
  {
   "cell_type": "code",
   "execution_count": 6,
   "id": "649cd504",
   "metadata": {},
   "outputs": [
    {
     "data": {
      "text/plain": [
       "pandas.core.series.Series"
      ]
     },
     "execution_count": 6,
     "metadata": {},
     "output_type": "execute_result"
    }
   ],
   "source": [
    "type(x)"
   ]
  },
  {
   "cell_type": "code",
   "execution_count": 8,
   "id": "cacf3b07",
   "metadata": {},
   "outputs": [],
   "source": [
    "y = df[\"vanzari\"]\n"
   ]
  },
  {
   "cell_type": "code",
   "execution_count": 10,
   "id": "51bc8baa",
   "metadata": {},
   "outputs": [
    {
     "data": {
      "image/png": "[encoded data removed]",
      "text/plain": [
       "<Figure size 640x480 with 1 Axes>"
      ]
     },
     "metadata": {},
     "output_type": "display_data"
    }
   ],
   "source": [
    "plt.scatter(x, y);"
   ]
  },
  {
   "cell_type": "code",
   "execution_count": null,
   "id": "34df457a",
   "metadata": {},
   "outputs": [],
   "source": []
  }
 ],
 "metadata": {
  "kernelspec": {
   "display_name": "Python 3",
   "language": "python",
   "name": "python3"
  },
  "language_info": {
   "codemirror_mode": {
    "name": "ipython",
    "version": 3
   },
   "file_extension": ".py",
   "mimetype": "text/x-python",
   "name": "python",
   "nbconvert_exporter": "python",
   "pygments_lexer": "ipython3",
   "version": "3.13.3"
  }
 },
 "nbformat": 4,
 "nbformat_minor": 5
}
