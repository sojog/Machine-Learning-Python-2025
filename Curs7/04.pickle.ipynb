{
 "cells": [
  {
   "cell_type": "code",
   "execution_count": 2,
   "id": "42bf1654",
   "metadata": {},
   "outputs": [],
   "source": [
    "import pickle\n",
    "from scoala import Student"
   ]
  },
  {
   "cell_type": "code",
   "execution_count": 3,
   "id": "42b78642",
   "metadata": {},
   "outputs": [
    {
     "data": {
      "text/plain": [
       "<scoala.Student at 0x106874ec0>"
      ]
     },
     "execution_count": 3,
     "metadata": {},
     "output_type": "execute_result"
    }
   ],
   "source": [
    "std1 = Student(\"Ion\", 20)\n",
    "std1"
   ]
  },
  {
   "cell_type": "code",
   "execution_count": 4,
   "id": "70a8e153",
   "metadata": {},
   "outputs": [
    {
     "name": "stdout",
     "output_type": "stream",
     "text": [
      "Student Ion has 20\n"
     ]
    }
   ],
   "source": [
    "print(std1)"
   ]
  },
  {
   "cell_type": "code",
   "execution_count": 5,
   "id": "40bd74cf",
   "metadata": {},
   "outputs": [],
   "source": [
    "with open(\"student.pkl\", \"wb\") as fwriter:\n",
    "    pickle.dump(std1,fwriter )"
   ]
  },
  {
   "cell_type": "code",
   "execution_count": 6,
   "id": "91dd3a0c",
   "metadata": {},
   "outputs": [],
   "source": [
    "with open(\"student.pkl\", \"rb\") as freader:\n",
    "    student_citit = pickle.load(freader)"
   ]
  },
  {
   "cell_type": "code",
   "execution_count": 7,
   "id": "e942ff7a",
   "metadata": {},
   "outputs": [
    {
     "data": {
      "text/plain": [
       "<scoala.Student at 0x106c207d0>"
      ]
     },
     "execution_count": 7,
     "metadata": {},
     "output_type": "execute_result"
    }
   ],
   "source": [
    "student_citit"
   ]
  },
  {
   "cell_type": "code",
   "execution_count": 8,
   "id": "7e5bc1bb",
   "metadata": {},
   "outputs": [
    {
     "name": "stdout",
     "output_type": "stream",
     "text": [
      "Student Ion has 20\n"
     ]
    }
   ],
   "source": [
    "print(student_citit)"
   ]
  },
  {
   "cell_type": "code",
   "execution_count": null,
   "id": "8386b5ab",
   "metadata": {},
   "outputs": [],
   "source": []
  }
 ],
 "metadata": {
  "kernelspec": {
   "display_name": "Python 3",
   "language": "python",
   "name": "python3"
  },
  "language_info": {
   "codemirror_mode": {
    "name": "ipython",
    "version": 3
   },
   "file_extension": ".py",
   "mimetype": "text/x-python",
   "name": "python",
   "nbconvert_exporter": "python",
   "pygments_lexer": "ipython3",
   "version": "3.13.3"
  }
 },
 "nbformat": 4,
 "nbformat_minor": 5
}
